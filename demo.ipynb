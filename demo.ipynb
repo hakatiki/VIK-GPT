{
 "cells": [
  {
   "cell_type": "code",
   "execution_count": 1,
   "metadata": {},
   "outputs": [],
   "source": [
    "import langchain"
   ]
  },
  {
   "cell_type": "code",
   "execution_count": 2,
   "metadata": {},
   "outputs": [],
   "source": [
    "from dotenv import load_dotenv\n",
    "import os\n",
    "\n",
    "# Load environment variables from .env file\n",
    "load_dotenv()\n",
    "\n",
    "# Access the environment variable\n",
    "OPENAI_API_KEY = os.getenv('OPENAI_API_KEY')\n",
    "if not OPENAI_API_KEY:\n",
    "    raise ValueError(\"OpenAI API key not found in environment variables\")\n"
   ]
  },
  {
   "cell_type": "code",
   "execution_count": 2,
   "metadata": {},
   "outputs": [],
   "source": [
    "from langchain.document_loaders import PyPDFLoader\n",
    "\n",
    "loader = PyPDFLoader(\"documents/BME_TVSZ_2016_elfogadott_mod_20220928_T.pdf\")\n",
    "pages = loader.load_and_split()"
   ]
  },
  {
   "cell_type": "code",
   "execution_count": 3,
   "metadata": {},
   "outputs": [
    {
     "data": {
      "text/plain": [
       "Document(page_content='A Szenátus  X./10./2015-2016. (201 6. VII. 11.)  \\nszámú határozata  \\n \\nA BME  TANULMÁNYI ÉS  VIZSGA SZABÁLYZAT ÁRÓL  \\n \\n \\nA módosításáról szóló  \\nII./3./2016 -2017. , VII./4./2016 -2017. , VIII./4./2016 -2017 ., IV./4./2017 -2018. , X./5./2017 -2018 ., \\nIX./2. /2018 -2019. , V./3./2019 -2020. , II./1./2020 -2021. , V./1./2020 -2021. ,X./3./2020 -2021. ,  \\nV./2./2021 -2022 ., X./2./2021 -2022., XI./2./2021 -2022. , XII./1./2021 -2022. , I./2./2022 -2023. \\nszámú Szenátusi határozat tal egybeszerkesztett változat . \\n \\n \\n \\n \\nHatályos 2016. szeptember 1. napjától  \\n \\n \\nRektori Kabinet  \\nOktatási Igazgatóság', metadata={'source': 'documents/BME_TVSZ_2016_elfogadott_mod_20220928_T.pdf', 'page': 0})"
      ]
     },
     "execution_count": 3,
     "metadata": {},
     "output_type": "execute_result"
    }
   ],
   "source": [
    "pages[0]"
   ]
  },
  {
   "cell_type": "code",
   "execution_count": 5,
   "metadata": {},
   "outputs": [],
   "source": [
    "import os\n",
    "\n",
    "os.environ['OPENAI_API_KEY'] = OPENAI_API_KEY"
   ]
  },
  {
   "cell_type": "code",
   "execution_count": 7,
   "metadata": {},
   "outputs": [],
   "source": [
    "from langchain.vectorstores import FAISS\n",
    "from langchain.embeddings.openai import OpenAIEmbeddings\n",
    "\n",
    "faiss_index = FAISS.from_documents(pages, OpenAIEmbeddings())"
   ]
  },
  {
   "cell_type": "code",
   "execution_count": 28,
   "metadata": {},
   "outputs": [
    {
     "name": "stdout",
     "output_type": "stream",
     "text": [
      "112: 113 meghatározott tartalommal – oklevelet ad ki. Az oklevél kiállítására kizárólag a \n",
      "KTH jogosult . \n",
      "(1a) 355Az Egyet em az oklevél kiadását mindaddig megtagadja, amíg a hallgató a fel-\n",
      "vételi eljárásban előírt okiratbemutatási kötelezettségének nem tesz eleget  \n",
      " Nem magyar nyelven folyó képzés esetén magyar nyelven és a képzés nyelvén \n",
      "kell kiadni az oklevelet.  \n",
      " Sikeres záróvi zsga alapján, ha a hallgató az oklevél kiadásához előírt minden fel-\n",
      "tételnek megfelel, az adatkezelő az oklevél kiállításáról szóló – a kormány rende-\n",
      "letében meghatározott tartalmú – igazolást ad ki.  \n",
      " Ha az oklevél kiadására azért nincs lehetőség, mert a nyelvvizsg át igazoló iratot  a \n",
      "hallgató nem mutatta be, a szakot (képzést) gondozó kar  – a hallgató kérésére – \n",
      "igazolást állít ki, amely végzettséget és szakképzettséget nem igazol, de tanúsítja \n",
      "a záróvizsg a eredményes letételét.  \n",
      " Az oklevelet a dékán vagy a z általa kijelölt dékánhelyettes írja alá.  \n",
      "160. §  [Oklevéleredmény ] \n",
      " Az oklevél eredményét két tizedesjegyre kerekítve kell meghatározni , a közbenső \n",
      "részeredményeket nem szabad kerekíteni . \n",
      " Az oklevéleredményt , ha a tanulmányok során szigorlat, illetve szigorlatok köte-\n",
      "lező teljesítését  \n",
      " írta elő a tanterv, akkor a 0,2×ZT+0,3×D+0,3×TÁ+0,2×SZ, \n",
      " nem írta elő a tanterv, akkor a 0,2×ZT+0,3×D+0,5×TÁ \n",
      "kifejezés szerint kell meghatározni, ahol SZ az oklevél megszerzéséhez szükséges \n",
      "szigorlatok érdemjegyének egyszer ű számtani átlaga, TÁ a teljes tanulmányi idő-\n",
      "szakra számított halmozott súlyozott tanulmányi átlag , a ZT és D mennyiségek \n",
      "értelmezése a 156. § (1) bekezdés szerinti . \n",
      "(2a) 356Amennyiben a szak képzési és kimeneti követelményei nem írják elő szigorlat \n",
      "letételét és szakdolgozat (diplomamunka) készítését, úgy az oklevéleredményt a \n",
      "0,5×ZT+0,5×TÁ kifejezéssel kell meghatározni.  \n",
      " Ha a hallgató a képzés során több tantárgyból is te tt szigorlat ot, mint amennyi \n",
      "teljesítése az oklevél megszerzéséhez szükséges, akkor a szigorlati érdemjegye k \n",
      "átlagát a legjobb eredményű szigorlatok alapján kell meghatározni.  Amennyiben \n",
      "a mintatanterv szerint a hallgató szakirányához, specializációjához kapcsolódik a \n",
      "szigorlatok teljesítése, akkor a szakiránynak, specializációnak megfelelő szigorla-\n",
      "tok eredménye alapján kell az átlagot megh atározni.  \n",
      "161. §  [Az oklevél minősítése ] \n",
      " Az oklevél minősítését az oklevéleredmény két tizedesjegyre kerekített számér-\n",
      "téke alapján a következők szerint kell meghatározni:  \n",
      " kiváló, ha az oklevéleredmény eléri a 4,50 értéket,  \n",
      " \n",
      "355 Beiktatta a X./3./ 2020 -2021. számú Szenátusi határozat. Hatályos 2021. június 29 -től. \n",
      "356 Beiktatta a X./3./ 2020 -2021. számú Szenátusi határozat. Hatályos 2021. június 29 -től.\n",
      "__________________________________________________-\n",
      "113: 114 \n",
      " jó, ha az oklevéleredmény eléri a 3,50 é rtéket és 4,50 értéknél kisebb,  \n",
      " közepes, ha az oklevéleredmény eléri a 2,50 értéket és 3,50 értéknél kisebb,  \n",
      " elégséges, ha az oklevéleredmény eléri a 2,00 értéket és 2,50 értéknél kisebb.  \n",
      " Kitüntetéses az oklevél minősítése, ha a vizsgázó  \n",
      " a záróvizsga minden tantárgyából jeles eredményt ért el,  \n",
      " diplomamunkájának vagy szakdolgozatának a záróvizsgán megállapított ér-\n",
      "demjegye jeles,  \n",
      " amennyiben van, akkor valamennyi , az oklevél megszerzéséhez szükséges  szi-\n",
      "gorlatának osztály zata jeles és  \n",
      " a teljes tanulmányi időszakra vonatkozó halmozott súlyozott t anulmányi át-\n",
      "laga legalább 4, 25. \n",
      " 357 \n",
      "162. §  [Az oklevélmelléklet ] \n",
      " Az oklevél mellé térítésmentesen ki kell adni az Európai Bizottság és az Európa \n",
      "Tanács által meghatározott oklevélmellékletet magyar és angol nye lven, valamint \n",
      "a képzés nyelvén , ha az nem magyar vagy angol.  \n",
      " Az okl evélre jogosult – térítési díj ellenében – az (1) bekezdésben megadottól eltérő \n",
      "nyelven is igényelhet oklevélmellékletet, melyet hatvan napon belül ki kell adni.  \n",
      " Az oklevélmelléklet célja, hogy harmadik személy – elsősorban külföldi érdekelt  \n",
      "– számára megkönnyítse annak megértését, hogy az adott oklevél milyen tudást \n",
      "és kompetenciákat tanúsít.  \n",
      " 358Az oklevélmelléklet kiállítására kizárólag a KTH jogosult . \n",
      "163. §  [A törzslap és a törzslapkivonat ] \n",
      " A törzslap a hallgatói jogviszony keretében a hallgató v alamennyi tanulmányok-\n",
      "kal kapcsolatos adatainak a TR -ben nyilvántartott és a hallgatói jogviszony meg-\n",
      "szűnését követően elektronikusan előállított és hitelesített összessége.  \n",
      " A törzslapkivonat a törzslap adatait a végbizonyítványra, záróvizsgára, oklevélre, \n",
      "oklevélmellékletre, idegen nyelvi követelményekre, fegyelmi és kártérítési \n",
      "ügyekre, fogyatékosságra és hallgatói balesetre vonatkozó adatokon kívül tartal-\n",
      "mazó, a TR-ből kinyomtatott és hitelesített okirat.  \n",
      " Az TR-ben biztosítani kell, hogy a hallgató nyomta tható formában hozzáférjen a \n",
      "törzslapkivonat adattartamához.  \n",
      " A hallgató képzésenként , félévente egy alkalommal jogosult térítésmentesen kivo-\n",
      "natot kapni az utolsó lezárt félév tanulmányi eredményeiről (féléves teljesítésiga-\n",
      "zolás  és kreditigazolás ). \n",
      " \n",
      "357 Hatályon kívül helyezte a X./2./2021 -2022. számú Szenátus i határozat. Hatálytalan 2022. augusztus 15 -től. \n",
      "358 Módosította a X./5./2017 -2018. számú Szenátusi határozat. Hatályos 2018. augusztus 1 -től.\n",
      "__________________________________________________-\n"
     ]
    }
   ],
   "source": [
    "question = \"Mi a kritériuma a kitüntetéses oklevélnek?\"\n",
    "docs = faiss_index.similarity_search(question, k=2)\n",
    "\n",
    "for doc in docs:\n",
    "    print(str(doc.metadata[\"page\"]) + \":\", doc.page_content)\n",
    "    print(\"__________________________________________________-\")\n",
    "context = docs[0].page_content + docs[1].page_content"
   ]
  },
  {
   "cell_type": "code",
   "execution_count": 19,
   "metadata": {},
   "outputs": [
    {
     "data": {
      "text/plain": [
       "'Mi a kritériuma a kitüntetéses oklevélnek?'"
      ]
     },
     "execution_count": 19,
     "metadata": {},
     "output_type": "execute_result"
    }
   ],
   "source": [
    "question"
   ]
  },
  {
   "cell_type": "code",
   "execution_count": 21,
   "metadata": {},
   "outputs": [
    {
     "data": {
      "text/plain": [
       "2705"
      ]
     },
     "execution_count": 21,
     "metadata": {},
     "output_type": "execute_result"
    }
   ],
   "source": [
    "len(context)"
   ]
  },
  {
   "cell_type": "code",
   "execution_count": 29,
   "metadata": {},
   "outputs": [],
   "source": [
    "from langchain.schema import (\n",
    "    AIMessage,\n",
    "    HumanMessage,\n",
    "    SystemMessage\n",
    ")\n",
    "\n",
    "template = f\"\"\"Egy segítőkész aszisztens vagy aki magyar diákoknak segít. A kérdésekre nem tudod a választ valószínűleg,\n",
    "de emiatt megkapod a releváns információkat amiket felhasználhatsz a válaszadáshoz. Lehetséges, \n",
    "hogy a megadott információ tartalmaz nem releváns információt is. Az információ: \n",
    "{context}\"\"\"\n",
    "\n",
    "chat = ChatOpenAI()\n",
    "result = chat([SystemMessage(content=template),HumanMessage(content=question)])"
   ]
  },
  {
   "cell_type": "code",
   "execution_count": 35,
   "metadata": {},
   "outputs": [
    {
     "name": "stdout",
     "output_type": "stream",
     "text": [
      "Az oklevél minősítése kitüntetéses, ha a vizsgázó teljesíti az alábbi feltételeket:\n",
      "\n",
      "- A záróvizsga minden tantárgyából jeles eredményt ér el.\n",
      "- A diplomamunkájának vagy szakdolgozatának a záróvizsgán megállapított érdemjegye jeles.\n",
      "- Amennyiben van, akkor valamennyi, az oklevél megszerzéséhez szükséges szigorlatának osztályzata jeles.\n",
      "- A teljes tanulmányi időszakra vonatkozó halmozott súlyozott tanulmányi átlaga legalább 4,25.\n"
     ]
    }
   ],
   "source": [
    "print(result.content)"
   ]
  },
  {
   "cell_type": "code",
   "execution_count": null,
   "metadata": {},
   "outputs": [],
   "source": []
  }
 ],
 "metadata": {
  "kernelspec": {
   "display_name": "Python 3",
   "language": "python",
   "name": "python3"
  },
  "language_info": {
   "codemirror_mode": {
    "name": "ipython",
    "version": 3
   },
   "file_extension": ".py",
   "mimetype": "text/x-python",
   "name": "python",
   "nbconvert_exporter": "python",
   "pygments_lexer": "ipython3",
   "version": "3.11.5"
  },
  "orig_nbformat": 4
 },
 "nbformat": 4,
 "nbformat_minor": 2
}
