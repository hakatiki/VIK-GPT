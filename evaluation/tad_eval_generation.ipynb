{
 "cells": [
  {
   "cell_type": "code",
   "execution_count": 2,
   "metadata": {},
   "outputs": [
    {
     "data": {
      "text/plain": [
       "True"
      ]
     },
     "execution_count": 2,
     "metadata": {},
     "output_type": "execute_result"
    }
   ],
   "source": [
    "import os\n",
    "from langchain import vectorstores, document_loaders, embeddings, chat_models, chains, prompts\n",
    "from langchain.schema import AIMessage, HumanMessage, SystemMessage\n",
    "from langchain.embeddings.openai import OpenAIEmbeddings\n",
    "from langchain.vectorstores import FAISS\n",
    "from dotenv import load_dotenv\n",
    "from langchain.chat_models import ChatOpenAI\n",
    "import json\n",
    "from langchain.prompts import PromptTemplate, ChatPromptTemplate\n",
    "\n",
    "\n",
    "load_dotenv('../.env',override=True)\n"
   ]
  },
  {
   "cell_type": "code",
   "execution_count": 1,
   "metadata": {},
   "outputs": [
    {
     "ename": "NameError",
     "evalue": "name 'OpenAIEmbeddings' is not defined",
     "output_type": "error",
     "traceback": [
      "\u001b[1;31m---------------------------------------------------------------------------\u001b[0m",
      "\u001b[1;31mNameError\u001b[0m                                 Traceback (most recent call last)",
      "Cell \u001b[1;32mIn[1], line 2\u001b[0m\n\u001b[0;32m      1\u001b[0m model_name \u001b[38;5;241m=\u001b[39m \u001b[38;5;124m'\u001b[39m\u001b[38;5;124mtext-embedding-ada-002\u001b[39m\u001b[38;5;124m'\u001b[39m\n\u001b[1;32m----> 2\u001b[0m embeddings \u001b[38;5;241m=\u001b[39m \u001b[43mOpenAIEmbeddings\u001b[49m(model\u001b[38;5;241m=\u001b[39mmodel_name)\n\u001b[0;32m      3\u001b[0m vectorstore_tad \u001b[38;5;241m=\u001b[39m FAISS\u001b[38;5;241m.\u001b[39mload_local(\u001b[38;5;124m'\u001b[39m\u001b[38;5;124m../faiss_db/tad-db\u001b[39m\u001b[38;5;124m'\u001b[39m, embeddings, allow_dangerous_deserialization\u001b[38;5;241m=\u001b[39m\u001b[38;5;28;01mTrue\u001b[39;00m)\n\u001b[0;32m      4\u001b[0m vectorstore_tad_title \u001b[38;5;241m=\u001b[39m FAISS\u001b[38;5;241m.\u001b[39mload_local(\u001b[38;5;124m'\u001b[39m\u001b[38;5;124m../faiss_db/tad-db-title-key\u001b[39m\u001b[38;5;124m'\u001b[39m, embeddings, allow_dangerous_deserialization\u001b[38;5;241m=\u001b[39m\u001b[38;5;28;01mTrue\u001b[39;00m)\n",
      "\u001b[1;31mNameError\u001b[0m: name 'OpenAIEmbeddings' is not defined"
     ]
    }
   ],
   "source": [
    "model_name = 'text-embedding-ada-002'\n",
    "embeddings = OpenAIEmbeddings(model=model_name)\n",
    "vectorstore_tad = FAISS.load_local('../faiss_db/tad-db', embeddings, allow_dangerous_deserialization=True)\n",
    "vectorstore_tad_title = FAISS.load_local('../faiss_db/tad-db-title-key', embeddings, allow_dangerous_deserialization=True)\n",
    "llm_gpt3 = ChatOpenAI(\n",
    "    model_name='gpt-3.5-turbo-1106',\n",
    "    temperature=0.2\n",
    ")\n",
    "llm_gpt4 = ChatOpenAI(\n",
    "    model_name='gpt-4',\n",
    "    temperature=0.0\n",
    ")"
   ]
  },
  {
   "cell_type": "code",
   "execution_count": 4,
   "metadata": {},
   "outputs": [],
   "source": [
    "def generate_context_from_theme(course_theme, countext_count=1):\n",
    "    documents = vectorstore_tad.max_marginal_relevance_search(\n",
    "        query=course_theme, k=countext_count, fetch_k=50, \n",
    "    )\n",
    "    result = []\n",
    "    for i in documents:\n",
    "        course_data = (\n",
    "            'BEGINING_OF_COURSE_DATA\\n'\n",
    "            f'A kurzus címe: {documents[0].metadata[\"course_title\"]},\\n'\n",
    "            f'Kreditértéke: {documents[0].metadata[\"course_credit\"]},\\n'\n",
    "            f'Követelmények: {documents[0].metadata[\"course_type\"]},\\n'\n",
    "            f'Forrás: {documents[0].metadata[\"source\"]},\\n'\n",
    "            f'A tárgy leírása: {documents[0].metadata[\"course_text\"]}\\n'\n",
    "            'END_OF_COURSE_DATA'\n",
    "        )\n",
    "        result.append(course_data)\n",
    "    return \"\".join(result)\n",
    "\n",
    "def process_generation(result):\n",
    "    return result.split('A válasz:')\n",
    "\n",
    "def generate_question_answer_context(course_theme,question_count=1, context_count=1, llm = llm_gpt3):\n",
    "\n",
    "    context = generate_context_from_theme(course_theme, context_count)\n",
    "    qa = PromptTemplate.from_template(\n",
    "            template=(\n",
    "                'BME hallgatóinak készülő QA rendszer tesztelője vagyok. '\n",
    "                'Jelenleg a tantárgyakkal kapcsolatos információkat tesztelem. '\n",
    "                'A tárgyakkal kapcsolatos információk az END_OF_COURSE_DATA és BEGINING_OF_COURSE_DATA címkék között találhatóak. '\n",
    "                'A követelmények értelmezésének példája: 4/2/0/v (4 óra előadás/2 óra gyakorlat/0 óra labor/vizsga). '\n",
    "                'Ha \"v\" betűvel végződik, a tárgy vizsgával zárul, \"f\" betű esetén félévközi értékeléssel. '\n",
    "                'Egy félévben 30 kreditet kell teljesíteni. A tárgyak kreditértéke 1 és 15 között változhat. '\n",
    "                'A feladatom kérdés-válasz párok generálása a megadott kontextus alapján JSON formátumban. '\n",
    "                'Íme egy példa: '\n",
    "            \n",
    "                '\"question\": \"Hány kreditet ér a \"Számítógépes grafika\" tárgy?\", '\n",
    "                '\"answer\": \"A tantárgyi adatlapja alapján a \"Számítógépes grafika\" (VIIIAB07) tárgy 3 kreditet ér.\"'    \n",
    "                                \n",
    "                'A kérdések kontextusa a következő: {context} '\n",
    "                'A kérdéseket azonnal megválaszolom a kontextus alapján. Minden kérdést és választ új sorban, JSON objektum formátumban adok meg. '\n",
    "                'A kérdés-válasz párok száma: {count} '\n",
    "                'A kérdések valószerüek olyanok amiket egy hallgató is feltenne az adott kurzussal kapcsolatban.'\n",
    "                'Olyan legyen a kérdés aminek a kontextus ismerete nélkül is van értelme.'\n",
    "                'A kérdések rövidek a válaszok hosszúak és informatívak.'\n",
    "                'A kérdések a következők JSON listaként:'\n",
    "            )\n",
    "        )\n",
    "\n",
    "    # Chain the QA template with the LLM for response generation\n",
    "    chain = qa | llm\n",
    "\n",
    "    # Invoke the chain to generate the final response\n",
    "    result = chain.invoke({'context': context, \"count\":question_count}).content\n",
    "    result = json.loads(result)\n",
    "    result = {\"context\":context, \"questions\":result}\n",
    "    return result\n",
    "def generate_dataset(themes, question_count, context_count, path, llm, random_question_count=False):\n",
    "    results = []\n",
    "    for theme in themes:\n",
    "        try:\n",
    "            print(f\"Processing theme: {theme}\")\n",
    "            result = generate_question_answer_context(theme, question_count=question_count, context_count=context_count, llm=llm)\n",
    "            results.append(result)\n",
    "        except Exception as e:\n",
    "            print(f\"Error processing theme {theme}: {e}\")\n",
    "            continue\n",
    "    with open(path, 'w', encoding=\"utf-8\") as f:\n",
    "        json.dump(results, f, ensure_ascii=False, indent=4)\n",
    "            "
   ]
  },
  {
   "cell_type": "code",
   "execution_count": 5,
   "metadata": {},
   "outputs": [],
   "source": [
    "themes = [\n",
    "    \"Analízis 1\",\n",
    "    \"A programozás alapjai 1\",\n",
    "    \"Bevezetés a számításelméletbe 1\",\n",
    "    \"Bevezető fizika\",\n",
    "    \"Bevezető matematika\",\n",
    "    \"Digitális kompetenciák\",\n",
    "    \"Digitális technika\",\n",
    "    \"Fizika 1i\",\n",
    "    \"Mérnök leszek\",\n",
    "    \"Villamos alapismeretek\",\n",
    "    \"Analízis 2\",\n",
    "    \"Analízis szigorlat informatikusoknak\",\n",
    "    \"A programozás alapjai 2\",\n",
    "    \"Bevezetés a számításelméletbe 2\",\n",
    "    \"Fizika 2i\",\n",
    "    \"Rendszermodellezés\",\n",
    "    \"Számítógép architektúrák\",\n",
    "    \"A programozás alapjai 3\",\n",
    "    \"Adatbázisok\",\n",
    "    \"Kódolástechnika\",\n",
    "    \"Kommunikációs hálózatok 1\",\n",
    "    \"Rendszerelmélet\",\n",
    "    \"Szoftvertechnológia\",\n",
    "    \"Valószínűségszámítás\",\n",
    "    \"Algoritmuselmélet\",\n",
    "    \"Kommunikációs hálózatok 2\",\n",
    "    \"Menedzsment és vállalkozásgazdaságtan\",\n",
    "    \"Operációs rendszerek\",\n",
    "    \"Számítógépes grafika\",\n",
    "    \"Szoftver projekt laboratórium\",\n",
    "    \"Szoftvertechnikák\",\n",
    "    \"IT eszközök technológiája\",\n",
    "    \"Mesterséges intelligencia\",\n",
    "    \"Mikro- és makroökonómia\",\n",
    "    \"Mobil- és webes szoftverek\",\n",
    "    \"Üzleti jog\",\n",
    "    \"Információs rendszerek üzemeltetése\",\n",
    "    \"IT biztonság\",\n",
    "    ]"
   ]
  },
  {
   "cell_type": "code",
   "execution_count": 143,
   "metadata": {},
   "outputs": [],
   "source": [
    "result = generate_question_answer_context(themes[0], 2, llm=llm_gpt4)"
   ]
  },
  {
   "cell_type": "code",
   "execution_count": 144,
   "metadata": {},
   "outputs": [
    {
     "name": "stdout",
     "output_type": "stream",
     "text": [
      "{'context': 'BEGINING_OF_COURSE_DATA\\nA kurzus címe: Analízis 1 informatikusoknak,\\nKreditértéke: 6,\\nKövetelmények: 4/2/0/v,\\nForrás: https://portal.vik.bme.hu/kepzes/targyak/TE90AX21,\\nA tárgy leírása: BME VIK - Analízis 1 informatikusoknak\\nBudapest University of Technology and Economics, Faculty of Electrical Engineering and Informatics\\nAnalízis 1 informatikusoknak\\nBelépés\\ncímtáras azonosítással\\ntantárgyi adatlapok\\nmagyar nyelvű adatlap\\nvissza a tantárgylistához\\nnyomtatható verzió\\nAnalízis 1 informatikusoknak\\nA tantárgy angol neve: Calculus 1 for Informaticians\\nAdatlap utolsó módosítása: 2017. június 16.\\nBudapesti Műszaki és Gazdaságtudományi Egyetem\\nVillamosmérnöki és Informatikai Kar\\nMérnökinformatikus szak, BSc képzés\\nTantárgykód\\nSzemeszter\\nKövetelmények\\nKredit\\nTantárgyfélév\\nTE90AX21\\n1\\n4/2/0/v\\n6\\n3. A tantárgyfelelős személy és tanszék\\nDr. Tasnádi Tamás Péter,\\n4. A tantárgy előadója\\nNév:\\nBeosztás:\\nTanszék, Intézet:\\nDr. Pataki Gergely\\negyetemi adjunktus\\nAnalízis Tanszék, TTK Matematikai Intézet\\nBodrogné Dr. Réffy Júlia\\negyetemi adjunktus\\nAnalízis Tanszék, TTK Matematikai Intézet\\nDr. Tasnádi Tamás\\negyetemi adjunktus\\nAnalízis Tanszék, TTK Matematikai Intézet\\n5. A tantárgy az alábbi témakörök ismeretére épít\\n-\\n6. Előtanulmányi rend\\nKötelező:\\nNEM ((TargyEredmeny(\"\\nBMETE92AM05\\n\", \"jegy\", _) >= 2) VAGY (TargyEredmeny(\"\\nBMETE93AF00\\n\", \"jegy\", _) >= 2)\\nVAGY (TargyEredmeny(\"\\nBMETE90AX04\\n\", \"jegy\", _) >= 2))\\nA fenti forma a Neptun sajátja, ezen technikai okokból nem változtattunk.\\nA kötelező előtanulmányi rend az adott szak honlapján és képzési programjában található.\\nAjánlott:\\n-\\n7. A tantárgy célkitűzése\\nA matematikai analízis alapfogalmainak ismertetése. Alapfokú készség kialakítása feladatok megoldásában.\\n8. A tantárgy részletes tematikája\\n1. fejezet: Komplex számok (1 hét)\\n1. hét: Komplex számok aritmetikája. (Alapműveletek, algebrai, trigonometrikus, exponenciális alak, Euler formula, gyökvonás.)\\n2. fejezet: Valós számsorozatok (2 hét)\\n2. hét: Határérték fogalma. Műveletek konvergens sorozatokkal. Rendőr elv. Nevezetes határértékek.\\n3. hét: Monoton és korlátos sorozat konvergens. Rekurzív sorozatok. Bolzano–Weierstrass kiválasztási tétel, torlódási pont, limesz szuperior, limesz inferior. Cauchy konvergencia kritérium.\\n3. fejezet: Egyváltozós, valós függvénytan (10 hét)\\n3.1 fejezet: Határérték, folytonosság\\n4. hét: Függvény határértéke. Átviteli elv. Számolási szabályok. (sinx)/x határértéke.\\n5. hét: Szakadási helyek osztályozása. Bolzano-tétel. Weierstrass I., II. tétel. Egyenletes folytonosság, Heine-tétel.\\n3.2 fejezet: Differenciálás és alkalmazásai\\n6. hét: A derivált fogalma, szemléltetése. Deriválási szabályok.\\n7. hét: Összetett függvény, inverz függvény deriváltja. Elemi függvények.\\n8. hét: Rolle-tétel, Lagrange-tétel, L’Hospital szabály.\\n9. hét: Függvényvizsgálat.\\n3.3 fejezet: Riemann-integrál\\n10. hét: Primitív függvény, határozatlan integrál, integrálási szabályok.\\n11. hét: Határozott integrál. Newton–Leibniz-tétel.\\n12. hét: Parciális integrálás, helyettesítéses integrálás. Racionális törtek integrálása.\\n13. hét: Improprius integrálok. Alkalmazás: terület, felszín, térfogat számolások.\\n9. A tantárgy oktatásának módja (előadás, gyakorlat, laboratórium)\\n4 óra előadás és 2 óra gyakorlat\\n10. Követelmények\\nA követelmények keretét a Tanulmányi és Vizsgaszabályzat (TVSz) adja meg:\\nhttp://kth.bme.hu/hivatal/szabalyzatok/\\nJelen dokumentum a TVSz-ben csak részlegesen vagy vagylagosan rögzített feltételeket pontosítja.\\nAz előadások és a gyakorlatok látogatása kötelező\\n. Az előadásokon a jelenlétet\\nazok kezdetén és végén is a félév folyamán minden alkalommal ellenőrizzük\\n, aláírást nem kaphat az a hallgató, aki ezek alapján az alkalmak több, mint 30%-áról hiányzott (a viszonyítási alap a ténylegesen megtartott előadások száma). A gyakorlatokon a jelenlétet minden alkalommal ellenőrizzük, 30%-ot meghaladó hiányzás esetén a tantárgyból sem aláírás sem kreditpont nem szerezhető.\\na) A félévközi aláírás megszerzése\\nAz aláírás feltételei\\nAz előadások legalább 70%-án való részvétel.\\nA gyakorlatoknak legalább 70 %-án való részvétel.\\nMinden zárthelyi legalább 40%-os teljesítése.\\nZárthelyik\\nA félév során három zárthelyi megírására kerül sor. A központilag rendezett 0. zárthelyi a középiskolás tudást ellenőrzi, az 1. és 2. zárthelyi a félév során tanult anyag elsajátítását méri. Az 1. és 2. zárthelyi eredménye beleszámít a vizsgajegybe.\\nA zárthelyik, pót- és javítózárthelyik minimum 50, maximum 90 percesek. A zárthelyiken semmiféle segédeszköz nem használható.\\nKorábban szerzett, érvényes aláírás esetén az órák látogatása valamint a zárthelyik megírás nem kötelező, azonban az órák látogatása ajánlott, a zárthelyik újraírásával pedig a régi eredmény javítható.\\nb. A vizsgajegy megszerzése\\nA sikeres vizsga feltételei:\\nAz aláírás megléte.\\nA vizsgadolgozat legalább 40%-os teljesítése.\\nA vizsgák 90 perces írásbeli dolgozatok. Segédeszközként csak a jegyzetben található (vagy azzal azonos tartalmú) deriválttáblázat használható. A vizsgadolgozat feladatok megoldását és a tételek, definíciók pontos kimondását, valamint a tételjegyzékben megjelölt bizonyításokat kéri számon. Az évközi zárthelyikben még számon nem kért anyagrészből (*-os feladatok) külön teljesíteni kell legalább 40%-ot. Vizsgára a Neptunon keresztül jelentkezni kell.\\nA vizsgajegy elégtelen, ha a *-os feladatokból nincs meg legalább 40%, vagy ha a teljes vizsgadolgozat eredménye nem éri el a 40%-ot. Egyébként a vizsgajegy kialakításában 25%-25% súllyal szerepel az 1. és 2. évközi zárthelyi eredménye, és 50% súllyal szerepel a vizsgadolgozat eredménye. E súlyozott átlagból alakul ki a vizsgajegy, a jegyhatárok: 40%, 55%, 65%, 80%. (Elégtelen < 40% <= elégséges < 55% <= közepes <65% <= jó <80% <= jeles.)\\nKorábban szerzett aláírás (keresztfélév vagy javító tárgyújrafelvétel esetén) minimális, tehát 40%-os zárthelyi eredménynek számít, hacsak a hallgató a zárthelyik újraírásával nem javított.\\n11. Pótlási lehetőségek\\nA zárthelyik pótlása, javítása\\nA nulladik zárthelyi pótlása, régebbi eredmény beszámítása tárgytól függetlenül, egységesen szabályzott:\\nhttp://www.ttk.bme.hu/altalanos/nyilt/NulladikZH/\\nA szorgalmi időszakban biztosítunk az 1. és 2. zárthelyi pótlására vagy javítására egy-egy lehetőséget, valamint a pótlási héten biztosítunk az 1. vagy 2. zárthelyi pótlására egy lehetőséget. Pótlásnak minősül a meg nem írt, vagy sikertelen, azaz 40% alatti zárthelyi újraírása. Javításnak minősül a sikeres, azaz legalább 40%-os zárthelyi újraírása\\nAz 1. és 2. zárthelyi közül legfeljebb az egyik pótolható a pótlási héten. A javító zárthelyi az előzőleg elért eredményt felülírja, tehát rontani is lehet. A pótlási héten javítani nem lehet. A pótlási héten megírt zárthelyire a Neptunban jelentkezni kell, és különeljárási díjat kell fizetni.\\nA pót-, javító zárthelyik anyaga, témája, nehézsége, értékelése megegyezik az eredeti zárthelyijével. A szorgalmi időszakban ugyanaz a zárthelyi szolgál javításra, mint ami pótlásra.\\nJavítóvizsga:\\nA TVSz-ben rögzített módon lehetséges.\\nFelhívjuk a figyelmet, hogy érvényes vizsgajegy javítása esetén rontani is lehet. Érvényes vizsgajegy javítása esetén a zárthelyik átlagát a korábbi vizsgadolgozat eredményével helyettesítjük, ha az jobb, mint a zárthelyik értéke.\\n12. Konzultációs lehetőségek\\nA tantárggyal kapcsolatos közlemények az előadásokon hangoznak el. A legfontosabb tudnivalókat (zárthelyi beosztása, stb.) az előadó(k) honlapján is megtalálják.\\nKomoly probléma esetén keresse fel előadóját a fogadó óráján, esetleg írjon email-t!\\n13. Jegyzet, tankönyv, felhasználható irodalom\\nTankönyv:\\nGeorge B. Thomas: Thomas-féle Kalkulus 1., TYPOTEX 2006.\\nGeorge B. Thomas: Thomas-féle Kalkulus 2.,\\nFritzné, Kónya, Pataki, Tasnádi:\\xa0 Matematika 1.\\nhttp://tankonyvtar.ttk.bme.hu/searchp.jsp?bookId=8\\nFritzné, Kónya, Pataki, Tasnádi:\\xa0 Matematika 1. gyakorlatok\\nhttp://tankonyvtar.ttk.bme.hu/searchp.jsp?bookId=11\\n14. A tantárgy elvégzéséhez átlagosan szükséges tanulmányi munka\\nKontakt óra\\n84\\nFélévközi készülés órákra\\n24\\nFelkészülés zárthelyire\\n29\\nHázi feladat elkészítése\\n-\\nKijelölt írásos tananyag elsajátítása\\n-\\nZárthelyik megírása\\n3\\nVizsgafelkészülés\\n40\\nÖsszesen\\n180\\n15. A tantárgy tematikáját kidolgozta\\nNév:\\nBeosztás:\\nTanszék, Intézet:\\nDr. Fritz Józsefné\\negyetemi\\xa0docens\\nAnalízis Tanszék, TTK Matematikai Intézet\\nDr. Tasnádi Tamás\\negyetemi adjunktus\\nAnalízis Tanszék, TTK Matematikai Intézet\\nIMSc tematika és módszer\\nAz IMSc programban résztvevő hallgatók által látogatott gyakorlatokon az anyag magasabb szintű, mélyebb elsajátítása érdekében részben más feladatokat dolgozunk fel, mint a többi kurzuson. Kevesebb bevezető, rutin, gyakorló feladat szerepel és több nehezebb, gondolkodtatóbb feladat lesz.\\nIMSc pontozás\\nMinden zárthelyin és javító zárthelyin a rendes (nem IMSc) zárthelyi feladatoktól elkülönítve\\r\\n IMSc feladatok is kitűzésre kerülnek, melyekre IMSc pontokat lehet \\r\\nszerezni. A rendes és az IMSc feladatok értékelése külön történik, a \\r\\nrendes feladatok értékelése zárthelyi pontszámmal történik (és kizárólag\\r\\n ezek a pontszámok határozzák meg a féléves érdemjegyet), míg az IMSc \\r\\nfeladatok megoldásával IMSc pontok szerezhetők. A zárthelyiken együtt \\r\\nmegszerezhető maximális IMSc pontszám 30; az egyes zárthelyiken \\r\\nkülön-külön megszerezhető maximális IMSc pontok a zárthelyik \\r\\nidőtartamával arányos oszlanak meg (egész pontszámra kerekítve).\\nEgy\\r\\n zárthelyi javítási szándékkal való újraírása esetén a \\r\\nlegutolsó zárthelyi IMSC pontszáma kerül figyelemebe vételre.\\nAz IMSc pontok megszerzése a programban nem résztvevő hallgatók számára is biztosított.\\nEgyéb megjegyzések\\nNEM (TárgyTeljesítve(\"BMETE90AX04\") )\\nwebmaster [kukac] vik [pont] bme [pont] hu\\n© 2005–2023. BME VIK\\nEND_OF_COURSE_DATA', 'questions': [{'question': 'Hány kreditet ér az Analízis 1 informatikusoknak tárgy?', 'answer': 'Az Analízis 1 informatikusoknak tárgy 6 kreditet ér.'}, {'question': 'Milyen követelményekkel rendelkezik az Analízis 1 informatikusoknak tárgy?', 'answer': 'Az Analízis 1 informatikusoknak tárgy követelményei a következők: 4 óra előadás, 2 óra gyakorlat, 0 óra labor és vizsgával zárul.'}]}\n"
     ]
    }
   ],
   "source": [
    "print(result)"
   ]
  },
  {
   "cell_type": "code",
   "execution_count": 146,
   "metadata": {},
   "outputs": [
    {
     "name": "stdout",
     "output_type": "stream",
     "text": [
      "Processing theme: Analízis 2\n",
      "Processing theme: Analízis szigorlat informatikusoknak\n",
      "Processing theme: A programozás alapjai 2\n",
      "Processing theme: Bevezetés a számításelméletbe 2\n",
      "Processing theme: Fizika 2i\n",
      "Processing theme: Rendszermodellezés\n",
      "Processing theme: Számítógép architektúrák\n",
      "Processing theme: A programozás alapjai 3\n",
      "Processing theme: Adatbázisok\n",
      "Processing theme: Kódolástechnika\n",
      "Processing theme: Kommunikációs hálózatok 1\n",
      "Processing theme: Rendszerelmélet\n",
      "Processing theme: Szoftvertechnológia\n",
      "Processing theme: Valószínűségszámítás\n",
      "Processing theme: Algoritmuselmélet\n",
      "Processing theme: Kommunikációs hálózatok 2\n",
      "Error processing theme Kommunikációs hálózatok 2: Unterminated string starting at: line 16 column 15 (char 735)\n",
      "Processing theme: Menedzsment és vállalkozásgazdaságtan\n",
      "Processing theme: Operációs rendszerek\n",
      "Processing theme: Számítógépes grafika\n",
      "Processing theme: Szoftver projekt laboratórium\n",
      "Processing theme: Szoftvertechnikák\n",
      "Processing theme: IT eszközök technológiája\n",
      "Processing theme: Mesterséges intelligencia\n",
      "Processing theme: Mikro- és makroökonómia\n",
      "Processing theme: Mobil- és webes szoftverek\n",
      "Processing theme: Üzleti jog\n",
      "Processing theme: Információs rendszerek üzemeltetése\n",
      "Processing theme: IT biztonság\n"
     ]
    }
   ],
   "source": [
    "generate_dataset(themes[10:], context_count=1, question_count=5, llm=llm_gpt4, path=\"./tad-qa-dataset/one-course-dataset-train.json\")"
   ]
  },
  {
   "cell_type": "code",
   "execution_count": 11,
   "metadata": {},
   "outputs": [],
   "source": [
    "path_to_test_set = \"./tad-qa-dataset/one-course-dataset.json\"\n",
    "\n",
    "with open(path_to_test_set, \"r\", encoding=\"utf-8\") as f:\n",
    "    test_set = json.load(f)"
   ]
  },
  {
   "cell_type": "code",
   "execution_count": 12,
   "metadata": {},
   "outputs": [],
   "source": [
    "for example in test_set[:]:\n",
    "    context = example[\"context\"]\n",
    "    title_target = context.split(\"\\n\")[1][len(\"A kurzus címe: \"):-1]\n",
    "    \n",
    "    for question in example[\"questions\"]:\n",
    "        query = question[\"question\"]\n",
    "        qa = PromptTemplate.from_template(\n",
    "            template=(\n",
    "                'A feladatod a megadott kérdésből egy rossz minőséű krédést generálni. A cél, hogy ne legyen tökéletes, olyan legyen mintha egy ember gépelte volna sietve'\n",
    "                'Néhány ötlet: adjál hozzá helyesírási hibát, szlenget, elgépelést vagy csak fogalmazzad át a kérdést'\n",
    "                'Példa: Mennyi kreditet ér az Analízis 1 informatikusoknak tárgy?'\n",
    "                'Átirat: Hany kerdites anal 1?'\n",
    "                'Példa: Milyen témaköröket tartalmaz az Analízis 1 informatikusoknak tárgy?'\n",
    "                'Átirat: Miről szól analizis 1?'\n",
    "                'Példa: {query}'\n",
    "                'Átirat:'\n",
    "            )\n",
    "        )\n",
    "        chain = qa | llm_gpt3\n",
    "        result = chain.invoke({'query': query}).content\n",
    "        question['difficult'] =result\n"
   ]
  },
  {
   "cell_type": "code",
   "execution_count": 13,
   "metadata": {},
   "outputs": [],
   "source": [
    "with open(\"./tad-qa-dataset/one-course-dataset-difficult.json\", 'w', encoding=\"utf-8\") as f:\n",
    "    json.dump(test_set, f, ensure_ascii=False, indent=4)"
   ]
  }
 ],
 "metadata": {
  "kernelspec": {
   "display_name": "Python 3",
   "language": "python",
   "name": "python3"
  },
  "language_info": {
   "codemirror_mode": {
    "name": "ipython",
    "version": 3
   },
   "file_extension": ".py",
   "mimetype": "text/x-python",
   "name": "python",
   "nbconvert_exporter": "python",
   "pygments_lexer": "ipython3",
   "version": "3.12.2"
  }
 },
 "nbformat": 4,
 "nbformat_minor": 2
}
