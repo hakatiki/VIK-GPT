{
 "cells": [
  {
   "cell_type": "code",
   "execution_count": 1,
   "metadata": {},
   "outputs": [
    {
     "name": "stderr",
     "output_type": "stream",
     "text": [
      "c:\\Users\\takat\\.virtualenvs\\Diploma-ESySJfXn\\Lib\\site-packages\\tqdm\\auto.py:21: TqdmWarning: IProgress not found. Please update jupyter and ipywidgets. See https://ipywidgets.readthedocs.io/en/stable/user_install.html\n",
      "  from .autonotebook import tqdm as notebook_tqdm\n",
      "c:\\Users\\takat\\.virtualenvs\\Diploma-ESySJfXn\\Lib\\site-packages\\langchain_core\\_api\\deprecation.py:115: LangChainDeprecationWarning: The class `OpenAIEmbeddings` was deprecated in LangChain 0.1.0 and will be removed in 0.2.0. Use langchain_openai.OpenAIEmbeddings instead.\n",
      "  warn_deprecated(\n"
     ]
    }
   ],
   "source": [
    "# Standard libraries\n",
    "import os\n",
    "import json\n",
    "import re\n",
    "from datetime import datetime\n",
    "from uuid import uuid4\n",
    "\n",
    "# Third-party libraries\n",
    "import requests\n",
    "from bs4 import BeautifulSoup\n",
    "from tqdm import tqdm\n",
    "from tqdm.auto import tqdm\n",
    "\n",
    "# LangChain libraries\n",
    "import langchain\n",
    "from langchain.document_loaders import PyPDFLoader\n",
    "from langchain.schema import (\n",
    "    AIMessage,\n",
    "    HumanMessage,\n",
    "    SystemMessage\n",
    ")\n",
    "from langchain.chat_models import ChatOpenAI\n",
    "from langchain.prompts import PromptTemplate, ChatPromptTemplate\n",
    "from langchain.chains import RetrievalQA, RetrievalQAWithSourcesChain\n",
    "from langchain.chains.qa_with_sources import load_qa_with_sources_chain\n",
    "from langchain.docstore.document import Document\n",
    "from langchain.vectorstores import FAISS\n",
    "from langchain.embeddings.openai import OpenAIEmbeddings\n",
    "from langchain.llms import OpenAI\n",
    "from langchain.retrievers import ContextualCompressionRetriever\n",
    "from langchain.retrievers.document_compressors import LLMChainExtractor\n",
    "from dotenv import load_dotenv\n",
    "\n",
    "\n",
    "load_dotenv()\n",
    "\n",
    "# Access the OpenAI API key from environment variables\n",
    "OPENAI_API_KEY = os.getenv('OPENAI_API_KEY')\n",
    "if not OPENAI_API_KEY:\n",
    "    raise ValueError(\"OpenAI API key not found in environment variables\")\n",
    "\n",
    "# If you need to set it as an environment variable for other modules\n",
    "os.environ['OPENAI_API_KEY'] = OPENAI_API_KEY\n",
    "\n",
    "\n",
    "model_name = 'text-embedding-ada-002'\n",
    "\n",
    "embeddings = OpenAIEmbeddings(\n",
    "    model=model_name,\n",
    ")"
   ]
  },
  {
   "cell_type": "code",
   "execution_count": 12,
   "metadata": {},
   "outputs": [],
   "source": [
    "llm_gpt3 = ChatOpenAI(\n",
    "    model_name='gpt-3.5-turbo-1106',\n",
    "    temperature=0.0\n",
    ")\n",
    "llm_gpt4 = ChatOpenAI(\n",
    "    model_name='gpt-4',\n",
    "    temperature=0.0\n",
    ")"
   ]
  },
  {
   "cell_type": "code",
   "execution_count": 13,
   "metadata": {},
   "outputs": [],
   "source": [
    "vectorstore_tad = FAISS.load_local('../faiss_db/tad-db', embeddings)\n",
    "vectorstore_tad_title = FAISS.load_local('../faiss_db/tad-db-title-key', embeddings)"
   ]
  },
  {
   "cell_type": "code",
   "execution_count": 14,
   "metadata": {},
   "outputs": [],
   "source": [
    "def generate_based_on_tad(query, retriever=vectorstore_tad, logging=False):\n",
    "    qa_chain = load_qa_with_sources_chain(llm_gpt3, chain_type=\"stuff\")\n",
    "    qa_chain.document_prompt = PromptTemplate(\n",
    "        input_variables=['course_title', 'course_credit', 'course_type', 'source', 'course_text'],\n",
    "        template=(\n",
    "            'BEGINING_OF_COURSE_DATA '\n",
    "            'A kurzus címe: {course_title}, '\n",
    "            'Kreditértéke: {course_credit}, '\n",
    "            'Típusa: {course_type}, '\n",
    "            'Forrás: {source}, '\n",
    "            'A tárgy leírása: {course_text} '\n",
    "            'END_OF_COURSE_DATA'\n",
    "        )\n",
    "    )\n",
    "    qa_chain.llm_chain.prompt = PromptTemplate(\n",
    "        input_variables=['summaries', 'question'],\n",
    "        template=(\n",
    "            'A tantárgyi adatlapokat felhasználva válaszolj a következő kérdésre. '\n",
    "            'Lehetséges, hogy a megadott adatlap nem releváns a kérdésre, ebben az esetben ne használd fel. '\n",
    "            'Ha nem tudod a választ, válaszolj úgy, hogy nem tudod. '\n",
    "            'A tárgyakról az információk END_OF_COURSE_DATA és BEGINING_OF_COURSE_DATA között találhatóak. '\n",
    "            'A típus értelmezésére példa: 4/2/0/v (előadás/gyakorlat/labor/vizsga). '\n",
    "            'Ha \"v\" a vége, akkor a tárgy vizsgával zárul, ha \"f\", akkor félévközi. '\n",
    "            'Egy félévben 30 kreditet kell teljesíteni. A tárgyak kreditértéke 1-15 között változhat. '\n",
    "            'A tárgyak nevei a következők: {summaries} '\n",
    "            'Ezeknek az információknak a birtokában válaszolj a következő kérdésre. '\n",
    "            'Ha lehetőséged van, indokoljad meg, hogy miért ez a válaszod, de nem kötelező, csak ha érdemes: '\n",
    "            '{question}'\n",
    "        )\n",
    "    )\n",
    "    qa = RetrievalQA(\n",
    "        combine_documents_chain=qa_chain,\n",
    "        return_source_documents=logging,\n",
    "        retriever=retriever.as_retriever(\n",
    "            search_type=\"mmr\",\n",
    "            search_kwargs={'k': 5, 'fetch_k': 50}),\n",
    "    )\n",
    "    \n",
    "    results = qa(query)\n",
    "    if logging:\n",
    "        print(results)\n",
    "        \n",
    "    return results['result']\n"
   ]
  },
  {
   "cell_type": "code",
   "execution_count": 15,
   "metadata": {},
   "outputs": [
    {
     "name": "stdout",
     "output_type": "stream",
     "text": [
      "A megadott adatlapok alapján Mészáros Tamás nem oktat egyetlen felsorolt tárgyat sem. Nem tudom, hogy melyik tárgyakat oktatja.\n"
     ]
    }
   ],
   "source": [
    "print(generate_based_on_tad(\"Milyen tárgyakat oktat Mészáros Tamás?\", retriever=vectorstore_tad))"
   ]
  },
  {
   "cell_type": "code",
   "execution_count": 16,
   "metadata": {},
   "outputs": [
    {
     "name": "stdout",
     "output_type": "stream",
     "text": [
      "A véges automata témájú tárgyak javaslatához a \"Fordítóprogramok a gyakorlatban\" és az \"Algoritmikus kérdések a bioinformatikában\" tárgyakat javasolnám. Ezek a tárgyak tartalmazzák a véges automaták elméleti és gyakorlati alapjait, valamint bemutatják a véges automaták alkalmazásait a gyakorlatban. A \"Fordítóprogramok a gyakorlatban\" tárgyban a véges automaták használata a lexikális elemzés során kerül bemutatásra, míg az \"Algoritmikus kérdések a bioinformatikában\" tárgyban a véges automaták alkalmazása a szekvenciaillesztés és a szintaxis elemzés területén kerül bemutatásra. A véges automaták témájának mélyebb megértése és alkalmazása szempontjából ezek a tárgyak kiváló választások lehetnek.\n"
     ]
    }
   ],
   "source": [
    "print(generate_based_on_tad(\"Javasolnál pár tárgyat ami véges automata témájú?\"))"
   ]
  },
  {
   "cell_type": "code",
   "execution_count": 17,
   "metadata": {},
   "outputs": [
    {
     "name": "stdout",
     "output_type": "stream",
     "text": [
      "Az analízis 1 tárgy oktatója Dr. Pataki Gergely, Dr. Bodrogné Dr. Réffy Júlia és Dr. Tasnádi Tamás.\n"
     ]
    }
   ],
   "source": [
    "print(generate_based_on_tad(\"Ki az analizis 1 tárgy oktatója?\"))"
   ]
  },
  {
   "cell_type": "code",
   "execution_count": 18,
   "metadata": {},
   "outputs": [
    {
     "name": "stdout",
     "output_type": "stream",
     "text": [
      "Az ajánlott olvasmány Gajdos Sándor Adatbázisok tárgyához az \"S. Abiteboul, R. Hull, Victor Vianu: Foundations of Databases\" című könyv. Ez azért ajánlott olvasmány, mert a tantárgy leírása szerint az adatbázisok elméleti megalapozásáról szól, és ez a könyv az adatbázisok alapjait és elméletét tárgyalja. A könyv segíthet a hallgatóknak megérteni az adatbázisok elméleti hátterét és alapjait, amelyekre a tantárgy épít.\n"
     ]
    }
   ],
   "source": [
    "print(generate_based_on_tad(\"Mi az ajánlott olvasmány Gajdos Sándor Adatbázisok tárgyához?\"))"
   ]
  },
  {
   "cell_type": "code",
   "execution_count": 19,
   "metadata": {},
   "outputs": [
    {
     "name": "stdout",
     "output_type": "stream",
     "text": [
      "A mélytanulás tárgyát javasolnám, mivel ez a tantárgy a Budapesti Műszaki és Gazdaságtudományi Egyetem Villamosmérnöki és Informatikai Karán elérhető, és részletesen bemutatja a mélytanulás elméletét és gyakorlati alkalmazásait. A tantárgy célja, hogy segítse a hallgatókat a modern mélytanuló szoftvereszközök és technikák elsajátításában és hatékony használatában. A tantárgy részletes tematikája számos fontos témakört érint, mint például a konvolúciós neurális hálózatok, rekurrens neurális hálózatok, önfelügyelt tanulás, gráf neurális hálózatok, és még sok más. A tantárgy elvégzéséhez átlagosan 150 tanulmányi munkaórát igényel, és a tantárgyfelelős személy Dr. Gyires-Tóth Bálint Pál, aki elismert szakértő a mélytanulás területén.\n"
     ]
    }
   ],
   "source": [
    "print(generate_based_on_tad(\"Milyen tárgyat javasolnál ha mélytanulásról szeretnék tanulni?\"))"
   ]
  },
  {
   "cell_type": "code",
   "execution_count": 20,
   "metadata": {},
   "outputs": [
    {
     "name": "stdout",
     "output_type": "stream",
     "text": [
      "A Szoftvertervezés tantárgy kreditértéke 5.\n"
     ]
    }
   ],
   "source": [
    "print(generate_based_on_tad(\"Hány kredit a Szoftvertervezés?\", retriever=vectorstore_tad_title))"
   ]
  },
  {
   "cell_type": "code",
   "execution_count": 21,
   "metadata": {},
   "outputs": [
    {
     "name": "stdout",
     "output_type": "stream",
     "text": [
      "Az ajánlott irodalom az Adatbázisok tárgyhoz az alábbi:\n",
      "\n",
      "S. Abiteboul, R. Hull, Victor Vianu: Foundations of Databases\n"
     ]
    }
   ],
   "source": [
    "print(generate_based_on_tad(\"Mi az ajánlott irodalom az Adatbázisok tárgyhoz?\",  retriever=vectorstore_tad_title))"
   ]
  },
  {
   "cell_type": "code",
   "execution_count": 22,
   "metadata": {},
   "outputs": [
    {
     "name": "stdout",
     "output_type": "stream",
     "text": [
      "Az ajánlott olvasmány az \"S. Abiteboul, R. Hull, Victor Vianu: Foundations of Databases\" című könyv. Ennek az az oka, hogy ez a könyv a tantárgy tematikájához kapcsolódóan a legrelevánsabb és legátfogóbb információkat tartalmazza az adatbázisokról.\n"
     ]
    }
   ],
   "source": [
    "print(generate_based_on_tad(\"Mi az ajánlott olvasmány Gajdos Sándor Adatbázisok tárgyához?\",  retriever=vectorstore_tad_title))"
   ]
  },
  {
   "cell_type": "code",
   "execution_count": 34,
   "metadata": {},
   "outputs": [],
   "source": [
    "compressor = LLMChainExtractor.from_llm(llm_gpt3)\n",
    "compression_retriever = ContextualCompressionRetriever(\n",
    "    base_compressor=compressor, \n",
    "    base_retriever=vectorstore_tad.as_retriever(\n",
    "        search_type=\"mmr\",\n",
    "        search_kwargs={'k': 10, 'fetch_k': 50}\n",
    "    )\n",
    ")\n",
    "\n",
    "compression_retriever.base_compressor.llm_chain.prompt = PromptTemplate(\n",
    "    input_variables=['context', 'question',],\n",
    "    template=(\n",
    "        'Én egy BME diákoknak segítő chatbot vagyok. '\n",
    "        'Felhasználva a tantárgyi adatlapokat, válaszolok a kérdésedre. '\n",
    "        'Amennyiben a rendelkezésre álló adatlap nem releváns a kérdésedre, válaszom: \"Nem tudom\". '\n",
    "        'Releváns dokumentumok esetén részletes és indokolt választ nyújtok. '\n",
    "        'A tárgyak részletes adatai a BEGINING_OF_COURSE_DATA és END_OF_COURSE_DATA között találhatóak. '\n",
    "        'Példa a típus értelmezésére: 4/2/0/v (előadás/gyakorlat/labor/vizsga). '\n",
    "        'Vizsgával végződő tárgyak \"v\"-vel, félévközi tárgyak \"f\"-fel jelölve. '\n",
    "        'Egy félévben 30 kredit teljesítése szükséges. '\n",
    "        '\\n\\n'\n",
    "        'A megadott szöveg: BEGINING_OF_COURSE_DATA  {context} END_OF_COURSE_DATA\\n'\n",
    "        'A kérdés: {question}'\n",
    "    )\n",
    ")\n",
    "\n",
    "# compressed_docs = compression_retriever.get_relevant_documents(\"Milyen tárgyat javasolnál, ha mélytanulásról szeretnék tanulni?\")\n"
   ]
  },
  {
   "cell_type": "code",
   "execution_count": 55,
   "metadata": {},
   "outputs": [],
   "source": [
    "def compressed_tad_qa(query, logging=False):\n",
    "    # Initialize the compressor with LLM GPT-3\n",
    "    compressor = LLMChainExtractor.from_llm(llm_gpt3)\n",
    "\n",
    "    # Set up the Contextual Compression Retriever\n",
    "    compression_retriever = ContextualCompressionRetriever(\n",
    "        base_compressor=compressor, \n",
    "        base_retriever=vectorstore_tad.as_retriever(\n",
    "            search_type=\"mmr\",\n",
    "            search_kwargs={'k': 10, 'fetch_k': 30}\n",
    "        )\n",
    "    )\n",
    "\n",
    "    # Define the prompt template for the compressor\n",
    "    compression_retriever.base_compressor.llm_chain.prompt = PromptTemplate(\n",
    "        input_variables=['context', 'question'],\n",
    "        template=(\n",
    "            'A BME diákjainak segítő chatbot vagyok. '\n",
    "            'Felhasználva a tantárgyi adatlapokat, válaszolok a kérdésedre. '\n",
    "            'A tárgyak információi a BEGINING_OF_COURSE_DATA és END_OF_COURSE_DATA között találhatóak. '\n",
    "            'Tárgyak típusának értelmezése: 4/2/0/v (előadás/gyakorlat/labor/vizsga). '\n",
    "            'Vizsgával záruló tárgyak \"v\"-vel, félévközi tárgyak \"f\"-fel jelölve. '\n",
    "            'Egy félévben 30 kredit teljesítése szükséges. '\n",
    "            '\\n\\nA megadott szöveg: BEGINING_OF_COURSE_DATA {context} END_OF_COURSE_DATA\\n '\n",
    "            'Ha a megadott adatlap NEM releváns akkor a válaszom rövid, tömör. Azt mondom: \"Nem tudom\".'\n",
    "            'Ha releváns, akkor részletes és indokolt választ nyújtok.'\n",
    "            'A kérdés: {question}'\n",
    "        )\n",
    "    )\n",
    "    # Retrieve and combine compressed documents\n",
    "    compressed_docs = compression_retriever.get_relevant_documents(query)\n",
    "    # Format and join the documents with their metadata\n",
    "    docs = '\\n\\n'.join([\n",
    "        'BEGINING_OF_COURSE_DATA '\n",
    "        f'A kurzus címe: {doc.metadata.get(\"course_title\", \"Ismeretlen cím\")}, '\n",
    "        f'Kreditértéke: {doc.metadata.get(\"course_credit\", \"Ismeretlen kreditérték\")},'\n",
    "        f'Típusa: {doc.metadata.get(\"course_type\", \"Ismeretlen típus\")}, '\n",
    "        f'Forrás: {doc.metadata.get(\"source\", \"Ismeretlen forrás\")}, '\n",
    "        f'A tárgy leírása: {doc.page_content} '\n",
    "        'END_OF_COURSE_DATA'\n",
    "        for doc in compressed_docs\n",
    "    ])\n",
    "\n",
    "    # Optional logging to print each document's content and metadata\n",
    "    if logging:\n",
    "        for doc in compressed_docs:\n",
    "            print(\n",
    "               'BEGINING_OF_COURSE_DATA '\n",
    "                f'A kurzus címe: {doc.metadata.get(\"course_title\", \"Ismeretlen cím\")}, '\n",
    "                f'Kreditértéke: {doc.metadata.get(\"course_credit\", \"Ismeretlen kreditérték\")},'\n",
    "                f'Típusa: {doc.metadata.get(\"course_type\", \"Ismeretlen típus\")}, '\n",
    "                f'Kurzuskód: {doc.metadata.get(\"course_id\", \"Ismeretlen id\")}, '\n",
    "                f'A tárgy leírása: {doc.page_content} '\n",
    "                'END_OF_COURSE_DATA'\n",
    "            )\n",
    "    # Set up the ChatPromptTemplate for response generation\n",
    "    qa = ChatPromptTemplate.from_template(\n",
    "        template=(\n",
    "            'A BME diákjainak segítő chatbot vagyok. '\n",
    "            'Kombináld az alábbi releváns válaszokat a felhasználó kérdésére. '\n",
    "            'Jelmagyarázat: 4/2/0/v (előadás/gyakorlat/labor/vizsga). '\n",
    "            'Egy félévben 30 kreditet kell teljesíteni. '\n",
    "            'Az adatok a BEGINING_OF_COURSE_DATA és END_OF_COURSE_DATA között találhatóak.'\n",
    "            'A válaszomhoz a lehető legtöbb információt felhasználom. '\n",
    "            'Lehet, hogy egy adatlap nem releváns a kérdésre, ebben az esetben nem használom fel. '\n",
    "            '\\nAz eddig összegyűjtött információ:\\n' + docs + \n",
    "            '\\nA felhasználó eredeti kérdése: ' + query + \n",
    "            '\\nA végső válaszod:'\n",
    "        )\n",
    "    )\n",
    "\n",
    "    # Chain the QA template with the LLM for response generation\n",
    "    chain = qa | llm_gpt4\n",
    "    \n",
    "    # Invoke the chain to generate the final response\n",
    "    return chain.invoke({}).content\n"
   ]
  },
  {
   "cell_type": "code",
   "execution_count": 56,
   "metadata": {},
   "outputs": [
    {
     "name": "stderr",
     "output_type": "stream",
     "text": [
      "c:\\Users\\takat\\.virtualenvs\\Diploma-ESySJfXn\\Lib\\site-packages\\langchain\\chains\\llm.py:278: UserWarning: The predict_and_parse method is deprecated, instead pass an output parser directly to LLMChain.\n",
      "  warnings.warn(\n"
     ]
    },
    {
     "name": "stdout",
     "output_type": "stream",
     "text": [
      "BEGINING_OF_COURSE_DATA A kurzus címe: Mélytanulás, Kreditértéke: 5,Típusa: 2/1/0/v, Kurzuskód: VITMMA19, A tárgy leírása: A mélytanulás tantárgy mellett ajánlott tárgy a Gépi tanulás. END_OF_COURSE_DATA\n",
      "BEGINING_OF_COURSE_DATA A kurzus címe: Adatelemzés mélytanulási módszerekkel, Kreditértéke: 5,Típusa: 2/2/0/v, Kurzuskód: VITMAC15, A tárgy leírása: A \"Adatelemzés mélytanulási módszerekkel\" tantárgyat javasolnám, mivel a tantárgy célja az adatelemzéshez szükséges gépi tanulás és azon belül a mélytanulás módszereinek oktatása. A tantárgy során ismertetett módszerek strukturált gazdasági adatok előrejelzésén és strukturálatlan multimédia tartalmak elemzésén keresztül tekintik át, így részletesen megismerkedhetsz az intelligens adatelemzéstől a mélytanulásig. END_OF_COURSE_DATA\n",
      "BEGINING_OF_COURSE_DATA A kurzus címe: Deep Learning a gyakorlatban Python és LUA alapon, Kreditértéke: 4,Típusa: 2/2/0/v, Kurzuskód: VITMAV45, A tárgy leírása: A mélytanulás (Deep Learning) témakörében a Budapesti Műszaki és Gazdaságtudományi Egyetem Villamosmérnöki és Informatikai Karán található \"Deep Learning a gyakorlatban Python és LUA alapon\" tantárgyat javasolnám. Ez a tantárgy részletesen foglalkozik a mély tanuló rendszerek tervezésével, megvalósításával és az órán tanult eszközök használatával. A tantárgy gyakorlati problémák megoldásán keresztül tanítja meg a rendelkezésre álló, az iparban is széles körben használt két legfontosabb nyílt forráskódú mély tanuló keretrendszer, a Google TensorFlow / Keras (Python) és a Facebook által támogatott PyTorch (Python) programozását és ezek széleskörű használatához szükséges elméleti alapokat. A tantárgy részletes tematikája és követelményei alapján nagyon hasznos és alapos ismereteket nyújt a mélytanulás területén. END_OF_COURSE_DATA\n",
      "BEGINING_OF_COURSE_DATA A kurzus címe: Adatelemzés és mélytanulás laboratórium, Kreditértéke: 3,Típusa: 0/0/2/f, Kurzuskód: VITMAC16, A tárgy leírása: Adatelemzés mélytanulási módszerekkel tantárgyat javasolnám, mivel az előtanulmányi rendben is szerepel, és az adatelemzés és mélytanulás technológiái köré szerveződik, így megfelelő alapot nyújt a mélytanulás tanulmányozásához. END_OF_COURSE_DATA\n",
      "BEGINING_OF_COURSE_DATA A kurzus címe: Deep learning alkalmazása a vizuális informatikában, Kreditértéke: 4,Típusa: 2/0/2/v, Kurzuskód: VIIIAV20, A tárgy leírása: A javasolt tantárgy a Budapesti Műszaki és Gazdaságtudományi Egyetem Villamosmérnöki és Informatikai Karának \"Deep learning alkalmazása a vizuális informatikában\" nevű tantárgy. Ez a tantárgy a gépi látás területén alkalmazza a GPU alapú deep learning technikákat, és bemutatja a képi információfeldolgozás és a látás alapú robotika feladatait. A tantárgy részletes tematikája és követelményei alapján kiváló lehetőséget nyújt a mélytanulás területének megismerésére és gyakorlati alkalmazására. END_OF_COURSE_DATA\n",
      "BEGINING_OF_COURSE_DATA A kurzus címe: Deep-learning a vizuális informatikában, Kreditértéke: 5,Típusa: 2/1/0/v, Kurzuskód: VIIIMB10, A tárgy leírása: A \"Deep-learning a vizuális informatikában\" tantárgy kiváló választás lenne, ha mélytanulásról szeretnél tanulni. A tantárgy részletesen bemutatja a GPU alapú deep learning technikákat a vizuális informatika területén, és megismerteti a hallgatókat a képi információfeldolgozás és a látás alapú robotika feladataival, valamint ezekre a feladatokra a mélytanulás alkalmazásával. END_OF_COURSE_DATA\n",
      "BEGINING_OF_COURSE_DATA A kurzus címe: Tanulás és életpálya, Kreditértéke: 2,Típusa: 1/1/0/f, Kurzuskód: GT51A020, A tárgy leírása: A Tanulás és életpálya tantárgyat javasolnám, mivel az a fő célja, hogy fejlessze az önálló probléma-felismerési és megoldási készséget, valamint segít az életen át tartó versenyképes tudás fenntartásában és az önálló foglalkozás és munkakör elemzésében. A tantárgy részletesen foglalkozik a tanulási készségekkel és az életkészségekkel, valamint az életen át tartó tanulás fontosságával. END_OF_COURSE_DATA\n",
      "BEGINING_OF_COURSE_DATA A kurzus címe: A tanulásból a munkába, Kreditértéke: 2,Típusa: 2/0/0/f, Kurzuskód: GT52V101, A tárgy leírása: A tanulásból a munkába tárgy (GT52V101) lehet egy jó választás, mivel a kurzus alapvető célja a munka- és munkahely-választást, a munkavégzést, a munkában való megfelelést meghatározó egyéni és szervezeti tényezők áttekintése. A tantárgy részletesen foglalkozik a munkahelyi viselkedéssel, motivációval, munkahelyválasztással és szervezeti kultúrával, amelyek fontosak lehetnek a mélytanulás témakörében is. END_OF_COURSE_DATA\n",
      "BEGINING_OF_COURSE_DATA A kurzus címe: Szakmai gyakorlat, Kreditértéke: 0,Típusa: 0/0/0/a, Kurzuskód: VIHVMS02, A tárgy leírása: A Szakmai gyakorlat tantárgy releváns lehet a mélytanulás témakörében, mivel lehetőséget ad arra, hogy a hallgatók a gyakorlatban alkalmazzák az űrmérnök képzés során szerzett ismereteiket, és részt vegyenek szakterületük kutatási-fejlesztési feladatainak kidolgozásában. A tantárgy részletes tematikája szerint a hallgatóknak a tanszék által meghatározott feladatot kell megoldaniuk, ami kapcsolódhat diplomatervükhöz, TDK dolgozatukhoz, önálló labor feladatukhoz. Ezen felül a tantárgy keretében a hallgatóknak írásos beszámolót is kell készíteniük, ami szintén hozzájárulhat a mélytanulás folyamatához. END_OF_COURSE_DATA\n",
      "BEGINING_OF_COURSE_DATA A kurzus címe: Kutatásmódszertan, Kreditértéke: 2,Típusa: 2/0/0/f, Kurzuskód: GT41A002, A tárgy leírása: A kutatásmódszertan tantárgy kiváló választás lenne, mivel a kurzus során a tudományos megismerés alapvető jellemzőit és a kutatás legfontosabb módszertani normáit tárgyalják. Emellett elemzik a tudományos gondolkodás fogalmi alapjait, a kutatási módszereket és a tudomány működését. Ezáltal mélyebb betekintést nyerhetsz a tudományos megismerés folyamatába és módszertanába. END_OF_COURSE_DATA\n"
     ]
    }
   ],
   "source": [
    "result = compressed_tad_qa(\"Milyen tárgyat javasolnál ha mélytanulásról szeretnék tanulni?\", logging=True)"
   ]
  },
  {
   "cell_type": "code",
   "execution_count": 57,
   "metadata": {},
   "outputs": [
    {
     "name": "stdout",
     "output_type": "stream",
     "text": [
      "A mélytanulás témakörében több tantárgyat is ajánlanék. Az egyik a \"Mélytanulás\" nevű kurzus, amely 5 kreditértékű és 2/1/0/v típusú. A mélytanulás tantárgy mellett ajánlott tárgy a Gépi tanulás. \n",
      "\n",
      "Ezen kívül a \"Adatelemzés mélytanulási módszerekkel\" tantárgyat is javasolnám, mivel a tantárgy célja az adatelemzéshez szükséges gépi tanulás és azon belül a mélytanulás módszereinek oktatása. Ez a kurzus is 5 kreditértékű és 2/2/0/v típusú.\n",
      "\n",
      "A \"Deep Learning a gyakorlatban Python és LUA alapon\" tantárgy 4 kreditértékű és 2/2/0/v típusú. Ez a tantárgy részletesen foglalkozik a mély tanuló rendszerek tervezésével, megvalósításával és az órán tanult eszközök használatával.\n",
      "\n",
      "A \"Deep learning alkalmazása a vizuális informatikában\" nevű tantárgy a gépi látás területén alkalmazza a GPU alapú deep learning technikákat, és bemutatja a képi információfeldolgozás és a látás alapú robotika feladatait. Ez a kurzus 4 kreditértékű és 2/0/2/v típusú.\n",
      "\n",
      "Végül a \"Deep-learning a vizuális informatikában\" tantárgy is kiváló választás lehet, amely 5 kreditértékű és 2/1/0/v típusú. A tantárgy részletesen bemutatja a GPU alapú deep learning technikákat a vizuális informatika területén. \n",
      "\n",
      "Ezek a tantárgyak összesen 23 kreditet érnek, ami jól belefér a félévente ajánlott 30 kreditbe.\n"
     ]
    }
   ],
   "source": [
    "print(result)"
   ]
  },
  {
   "cell_type": "code",
   "execution_count": null,
   "metadata": {},
   "outputs": [],
   "source": []
  },
  {
   "cell_type": "code",
   "execution_count": null,
   "metadata": {},
   "outputs": [],
   "source": []
  }
 ],
 "metadata": {
  "kernelspec": {
   "display_name": "Diploma-ESySJfXn",
   "language": "python",
   "name": "python3"
  },
  "language_info": {
   "codemirror_mode": {
    "name": "ipython",
    "version": 3
   },
   "file_extension": ".py",
   "mimetype": "text/x-python",
   "name": "python",
   "nbconvert_exporter": "python",
   "pygments_lexer": "ipython3",
   "version": "3.11.5"
  }
 },
 "nbformat": 4,
 "nbformat_minor": 2
}
