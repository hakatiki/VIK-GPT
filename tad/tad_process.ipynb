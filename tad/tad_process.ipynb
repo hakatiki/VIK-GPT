{
 "cells": [
  {
   "cell_type": "code",
   "execution_count": 5,
   "metadata": {},
   "outputs": [],
   "source": [
    "# Standard libraries\n",
    "import os\n",
    "from dotenv import load_dotenv\n",
    "from langchain_community.embeddings import HuggingFaceEmbeddings\n",
    "\n",
    "from tad_process import *\n",
    "\n",
    "load_dotenv()\n",
    "\n",
    "# Access the OpenAI API key from environment variables\n",
    "OPENAI_API_KEY = os.getenv('OPENAI_API_KEY')\n",
    "if not OPENAI_API_KEY:\n",
    "    raise ValueError(\"OpenAI API key not found in environment variables\")\n",
    "\n",
    "# If you need to set it as an environment variable for other modules\n",
    "os.environ['OPENAI_API_KEY'] = OPENAI_API_KEY"
   ]
  },
  {
   "cell_type": "code",
   "execution_count": 6,
   "metadata": {},
   "outputs": [],
   "source": [
    "version = 'negative'"
   ]
  },
  {
   "cell_type": "code",
   "execution_count": 7,
   "metadata": {},
   "outputs": [
    {
     "name": "stderr",
     "output_type": "stream",
     "text": [
      "2024-05-03 17:27:48,653 - INFO - Load pretrained SentenceTransformer: C:/Users/takat/OneDrive/Documents/Egyetem/Diploma/evaluation/my-all-MiniLM-L6-v2-negative.ckp\n",
      "2024-05-03 17:27:48,751 - INFO - Use pytorch device_name: cpu\n",
      "2024-05-03 17:27:48,753 - INFO - Load pretrained SentenceTransformer: all-MiniLM-L6-v2\n",
      "2024-05-03 17:27:51,344 - INFO - Use pytorch device_name: cpu\n"
     ]
    }
   ],
   "source": [
    "embedding = OpenAIEmbeddings(\n",
    "    model='text-embedding-ada-002',\n",
    ")\n",
    "embedding_finetune = HuggingFaceEmbeddings(model_name=f'C:/Users/takat/OneDrive/Documents/Egyetem/Diploma/evaluation/my-all-MiniLM-L6-v2-{version}.ckp')\n",
    "embedding_baseline = HuggingFaceEmbeddings(model_name='all-MiniLM-L6-v2')"
   ]
  },
  {
   "cell_type": "code",
   "execution_count": 8,
   "metadata": {},
   "outputs": [
    {
     "name": "stderr",
     "output_type": "stream",
     "text": [
      "100%|██████████| 1383/1383 [00:00<00:00, 150871.89it/s]\n",
      "2024-05-03 17:27:51,479 - INFO - Creating FAISS db\n"
     ]
    }
   ],
   "source": [
    "tad_pipeline(\n",
    "    embeddings=embedding_finetune,\n",
    "    url = \"https://portal.vik.bme.hu/kepzes/targyak/?order=s.code&own=&department_id=all&has_datasheet=all&active=1&program=all\",\n",
    "    base_url = \"https://portal.vik.bme.hu\",\n",
    "    save_path = \"../documents/tad/tad.json\",\n",
    "    tad_faiss_path = f\"../faiss_db/faiss-db-finetune-{version}\",\n",
    "    solr_url = \"http://localhost:8983/solr/vik-gpt-core/update/json/docs?commit=true\",\n",
    "    should_scrape=False,\n",
    "    should_faiss=True,\n",
    "    should_solr=False,)"
   ]
  },
  {
   "cell_type": "code",
   "execution_count": null,
   "metadata": {},
   "outputs": [],
   "source": []
  }
 ],
 "metadata": {
  "kernelspec": {
   "display_name": "Python 3",
   "language": "python",
   "name": "python3"
  },
  "language_info": {
   "codemirror_mode": {
    "name": "ipython",
    "version": 3
   },
   "file_extension": ".py",
   "mimetype": "text/x-python",
   "name": "python",
   "nbconvert_exporter": "python",
   "pygments_lexer": "ipython3",
   "version": "3.12.2"
  }
 },
 "nbformat": 4,
 "nbformat_minor": 2
}
